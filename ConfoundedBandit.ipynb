{
 "cells": [
  {
   "cell_type": "code",
   "execution_count": 1,
   "id": "equivalent-township",
   "metadata": {},
   "outputs": [],
   "source": [
    "import matplotlib.pyplot as plt\n",
    "import numpy as np\n",
    "import os\n",
    "import seaborn as sns\n",
    "import pandas as pd\n",
    "from matplotlib.lines import Line2D\n",
    "import matplotlib\n",
    "import scipy.stats\n",
    "import matplotlib.gridspec as gridspec\n",
    "\n",
    "%matplotlib inline"
   ]
  },
  {
   "cell_type": "code",
   "execution_count": 2,
   "id": "reasonable-bumper",
   "metadata": {},
   "outputs": [],
   "source": [
    "# Pretty Plots\n",
    "matplotlib.rcParams['text.usetex'] = True\n",
    "matplotlib.rc('font',family='serif', serif=['Palatino'])\n",
    "sns.set(font='serif', font_scale=1.4)\n",
    "sns.set_style(\"white\", {\n",
    "        \"font.family\": \"serif\",\n",
    "        \"font.weight\": \"normal\",\n",
    "        \"font.serif\": [\"Times\", \"Palatino\", \"serif\"],\n",
    "        'axes.facecolor': 'white',\n",
    "        'lines.markeredgewidth': 1})\n",
    "def setup_plot():\n",
    "    fig = plt.figure(dpi=100, figsize=(5.0,3.0))\n",
    "    ax = plt.subplot(111)\n",
    "    ax.spines['right'].set_visible(False)\n",
    "    ax.spines['top'].set_visible(False)\n",
    "    ax.yaxis.set_ticks_position('left')\n",
    "    ax.xaxis.set_ticks_position('bottom')\n",
    "    ax.tick_params(axis = 'both', which = 'major', labelsize = 15)\n",
    "    ax.tick_params(axis = 'both', which = 'minor', labelsize = 15)\n",
    "    ax.tick_params(direction='in')"
   ]
  },
  {
   "cell_type": "code",
   "execution_count": 3,
   "id": "magnetic-palmer",
   "metadata": {},
   "outputs": [],
   "source": [
    "N_doors = 5\n",
    "eps_exp = 0.2\n",
    "eps_obs = 0.2\n",
    "T = 2000"
   ]
  },
  {
   "cell_type": "code",
   "execution_count": 4,
   "id": "tough-mortality",
   "metadata": {},
   "outputs": [],
   "source": [
    "def sample_obs(a, best_door, eps=eps_obs):\n",
    "    if a == best_door:\n",
    "        return np.random.binomial(n=1, p=1-eps)\n",
    "    else:\n",
    "        return np.random.binomial(n=1, p=eps)"
   ]
  },
  {
   "cell_type": "code",
   "execution_count": 5,
   "id": "overall-tourist",
   "metadata": {},
   "outputs": [],
   "source": [
    "def likelihood(obs, a, door, eps=eps_obs):\n",
    "    if a == door:\n",
    "        if obs == 1:\n",
    "            return 1 - eps\n",
    "        else:\n",
    "            return eps\n",
    "    else:\n",
    "        if obs == 1:\n",
    "            return eps\n",
    "        else:\n",
    "            return 1 - eps"
   ]
  },
  {
   "cell_type": "code",
   "execution_count": 6,
   "id": "pediatric-cholesterol",
   "metadata": {},
   "outputs": [],
   "source": [
    "def compute_seq_score(eps_obs, eps_exp, a_prob=False, T=T, N_trials=100):\n",
    "    correct = np.zeros(T)\n",
    "    for i in range(N_trials):\n",
    "        prior = np.ones(N_doors) / N_doors\n",
    "        door = np.random.choice(np.arange(N_doors))\n",
    "        a = np.random.choice(np.arange(N_doors))\n",
    "        if a == door:\n",
    "            correct[0] += 1\n",
    "        for t in range(1, T):\n",
    "            obs = sample_obs(a, door, eps_obs)\n",
    "            post = prior\n",
    "            for d in np.arange(N_doors):\n",
    "                if not a_prob:\n",
    "                    post[d] = prior[d] * likelihood(obs, a, d, eps_obs)\n",
    "                else:\n",
    "                    if a == d:\n",
    "                        post[d] = prior[d] * likelihood(obs, a, d, eps_obs) * (1 - eps_exp) \n",
    "                    else:\n",
    "                        post[d] = prior[d] * likelihood(obs, a, d, eps_obs) * (eps_exp) / (N_doors - 1)\n",
    "            post = post / np.sum(post)\n",
    "            a = np.argmax(post)\n",
    "            if np.random.uniform() < eps_exp: # swap\n",
    "                l = [x for x in np.arange(N_doors) if x != a]\n",
    "                a = np.random.choice(l)\n",
    "            prior = post\n",
    "            if a == door:\n",
    "                correct[t] += 1\n",
    "    correct = correct / (N_trials)\n",
    "    return correct"
   ]
  },
  {
   "cell_type": "code",
   "execution_count": 9,
   "id": "floating-butler",
   "metadata": {},
   "outputs": [],
   "source": [
    "res = np.zeros((10, 10))"
   ]
  },
  {
   "cell_type": "code",
   "execution_count": 10,
   "id": "fixed-drilling",
   "metadata": {
    "scrolled": true
   },
   "outputs": [
    {
     "name": "stdout",
     "output_type": "stream",
     "text": [
      "1 1\n",
      "1 2\n",
      "1 3\n",
      "1 4\n",
      "1 5\n",
      "1 6\n",
      "1 7\n",
      "1 8\n",
      "1 9\n",
      "2 1\n",
      "2 2\n",
      "2 3\n",
      "2 4\n",
      "2 5\n",
      "2 6\n",
      "2 7\n",
      "2 8\n",
      "2 9\n",
      "3 1\n",
      "3 2\n",
      "3 3\n",
      "3 4\n",
      "3 5\n",
      "3 6\n",
      "3 7\n",
      "3 8\n",
      "3 9\n",
      "4 1\n",
      "4 2\n",
      "4 3\n",
      "4 4\n",
      "4 5\n",
      "4 6\n",
      "4 7\n",
      "4 8\n",
      "4 9\n",
      "5 1\n",
      "5 2\n",
      "5 3\n",
      "5 4\n",
      "5 5\n",
      "5 6\n",
      "5 7\n",
      "5 8\n",
      "5 9\n",
      "6 1\n",
      "6 2\n",
      "6 3\n",
      "6 4\n",
      "6 5\n",
      "6 6\n",
      "6 7\n",
      "6 8\n",
      "6 9\n",
      "7 1\n",
      "7 2\n",
      "7 3\n",
      "7 4\n",
      "7 5\n",
      "7 6\n",
      "7 7\n",
      "7 8\n",
      "7 9\n",
      "8 1\n",
      "8 2\n",
      "8 3\n",
      "8 4\n",
      "8 5\n",
      "8 6\n",
      "8 7\n",
      "8 8\n",
      "8 9\n",
      "9 1\n",
      "9 2\n",
      "9 3\n",
      "9 4\n",
      "9 5\n",
      "9 6\n",
      "9 7\n",
      "9 8\n",
      "9 9\n"
     ]
    }
   ],
   "source": [
    "for i in range(1, 10):\n",
    "    for j in range(1, 10):\n",
    "        print(i, j)\n",
    "        eo = 0.1 * i\n",
    "        ee = 0.1 * j\n",
    "        correct = compute_seq_score(eo, ee, a_prob=True)\n",
    "        res[i, j] = correct[-1]"
   ]
  },
  {
   "cell_type": "code",
   "execution_count": 31,
   "id": "orange-governor",
   "metadata": {},
   "outputs": [
    {
     "data": {
      "image/png": "[encoded data removed]",
      "text/plain": [
       "<Figure size 500x300 with 1 Axes>"
      ]
     },
     "metadata": {},
     "output_type": "display_data"
    }
   ],
   "source": [
    "setup_plot()\n",
    "\n",
    "for i in range(1, 10):\n",
    "    for j in range(1, 10):\n",
    "        eo = 0.1 * i\n",
    "        ee = 0.1 * j\n",
    "        if 1 - res[i, j] > ee + 0.12 or eo == 0.5:\n",
    "            plt.scatter(ee, eo, color='#f96565')\n",
    "        else:\n",
    "            plt.scatter(ee, eo, color='#008000')\n",
    "\n",
    "plt.xlabel(\"$\\\\epsilon_{exp}$\")\n",
    "plt.ylabel(\"$\\\\epsilon_{obs}$\")\n",
    "plt.title(\"Consistency of $\\pi^{bc}$\")\n",
    "plt.savefig(\"bc_ave.pdf\", bbox_inches='tight')"
   ]
  },
  {
   "cell_type": "code",
   "execution_count": 24,
   "id": "competitive-denver",
   "metadata": {},
   "outputs": [],
   "source": [
    "res2 = np.zeros((10, 10))"
   ]
  },
  {
   "cell_type": "code",
   "execution_count": 25,
   "id": "developing-broad",
   "metadata": {
    "scrolled": true
   },
   "outputs": [
    {
     "name": "stdout",
     "output_type": "stream",
     "text": [
      "1 1\n",
      "1 2\n",
      "1 3\n",
      "1 4\n",
      "1 5\n",
      "1 6\n",
      "1 7\n",
      "1 8\n",
      "1 9\n",
      "2 1\n",
      "2 2\n",
      "2 3\n",
      "2 4\n",
      "2 5\n",
      "2 6\n",
      "2 7\n",
      "2 8\n",
      "2 9\n",
      "3 1\n",
      "3 2\n",
      "3 3\n",
      "3 4\n",
      "3 5\n",
      "3 6\n",
      "3 7\n",
      "3 8\n",
      "3 9\n",
      "4 1\n",
      "4 2\n",
      "4 3\n",
      "4 4\n",
      "4 5\n",
      "4 6\n",
      "4 7\n",
      "4 8\n",
      "4 9\n",
      "5 1\n",
      "5 2\n",
      "5 3\n",
      "5 4\n",
      "5 5\n",
      "5 6\n",
      "5 7\n",
      "5 8\n",
      "5 9\n",
      "6 1\n",
      "6 2\n",
      "6 3\n",
      "6 4\n",
      "6 5\n",
      "6 6\n",
      "6 7\n",
      "6 8\n",
      "6 9\n",
      "7 1\n",
      "7 2\n",
      "7 3\n",
      "7 4\n",
      "7 5\n",
      "7 6\n",
      "7 7\n",
      "7 8\n",
      "7 9\n",
      "8 1\n",
      "8 2\n",
      "8 3\n",
      "8 4\n",
      "8 5\n",
      "8 6\n",
      "8 7\n",
      "8 8\n",
      "8 9\n",
      "9 1\n",
      "9 2\n",
      "9 3\n",
      "9 4\n",
      "9 5\n",
      "9 6\n",
      "9 7\n",
      "9 8\n",
      "9 9\n"
     ]
    }
   ],
   "source": [
    "for i in range(1, 10):\n",
    "    for j in range(1, 10):\n",
    "        print(i, j)\n",
    "        eo = 0.1 * i\n",
    "        ee = 0.1 * j\n",
    "        correct = compute_seq_score(eo, ee, a_prob=False)\n",
    "        res2[i, j] = correct[-1]"
   ]
  },
  {
   "cell_type": "code",
   "execution_count": 32,
   "id": "mediterranean-shuttle",
   "metadata": {},
   "outputs": [
    {
     "data": {
      "image/png": "[encoded data removed]",
      "text/plain": [
       "<Figure size 500x300 with 1 Axes>"
      ]
     },
     "metadata": {},
     "output_type": "display_data"
    }
   ],
   "source": [
    "setup_plot()\n",
    "\n",
    "for i in range(1, 10):\n",
    "    for j in range(1, 10):\n",
    "        eo = 0.1 * i\n",
    "        ee = 0.1 * j\n",
    "        if 1 - res2[i, j] > ee + 0.12 or eo == 0.5:\n",
    "            plt.scatter(ee, eo, color='#f96565')\n",
    "        else:\n",
    "            plt.scatter(ee, eo, color='#008000')\n",
    "\n",
    "plt.xlabel(\"$\\\\epsilon_{exp}$\")\n",
    "plt.ylabel(\"$\\\\epsilon_{obs}$\")\n",
    "plt.title(\"Consistency of $\\pi^{dagger}$\")\n",
    "plt.savefig(\"dagger_ave.pdf\", bbox_inches='tight')"
   ]
  },
  {
   "cell_type": "code",
   "execution_count": 47,
   "id": "extraordinary-closing",
   "metadata": {},
   "outputs": [],
   "source": [
    "onq = compute_seq_score(0.3, 0.2, a_prob=False)"
   ]
  },
  {
   "cell_type": "code",
   "execution_count": 48,
   "id": "stock-pledge",
   "metadata": {},
   "outputs": [],
   "source": [
    "offq = compute_seq_score(0.3, 0.2, a_prob=True)"
   ]
  },
  {
   "cell_type": "code",
   "execution_count": 51,
   "id": "sunrise-shift",
   "metadata": {},
   "outputs": [
    {
     "data": {
      "image/png": "[encoded data removed]",
      "text/plain": [
       "<Figure size 500x300 with 1 Axes>"
      ]
     },
     "metadata": {},
     "output_type": "display_data"
    }
   ],
   "source": [
    "setup_plot()\n",
    "plt.plot(np.arange(0, 2000, 10), onq[::10], color=\"#F79646\", label=\"$\\pi^{dagger}$\")\n",
    "plt.plot(np.arange(0, 2000, 10), offq[::10], color=\"grey\", label=\"$\\pi^{bc}$\")\n",
    "plt.plot([0.8] * len(onq), linestyle=\"--\", color=\"#008000\", label=\"$1 - \\epsilon_{exp}$\")\n",
    "plt.plot([1 / N_doors] * len(onq), linestyle=\"--\", color=\"#f96565\", label=\"$1/K$\")\n",
    "plt.xlabel(\"$t$\")\n",
    "plt.ylabel(\"Prob. of Correct Arm\")\n",
    "plt.title(\"$\\epsilon_{obs}=0.3$, $\\epsilon_{exp}=0.2$\")\n",
    "plt.legend(ncol=2)\n",
    "plt.savefig(\"cb_ave.pdf\", bbox_inches='tight')\n",
    "plt.show()"
   ]
  }
 ],
 "metadata": {
  "kernelspec": {
   "display_name": "Python (myenv)",
   "language": "python",
   "name": "myenv"
  },
  "language_info": {
   "codemirror_mode": {
    "name": "ipython",
    "version": 3
   },
   "file_extension": ".py",
   "mimetype": "text/x-python",
   "name": "python",
   "nbconvert_exporter": "python",
   "pygments_lexer": "ipython3",
   "version": "3.7.9"
  }
 },
 "nbformat": 4,
 "nbformat_minor": 5
}
